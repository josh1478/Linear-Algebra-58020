{
  "nbformat": 4,
  "nbformat_minor": 0,
  "metadata": {
    "colab": {
      "name": "Determinant Matrix.ipynb",
      "provenance": [],
      "authorship_tag": "ABX9TyMxE3ub1QIPmRT2GvzxljfN",
      "include_colab_link": true
    },
    "kernelspec": {
      "name": "python3",
      "display_name": "Python 3"
    },
    "language_info": {
      "name": "python"
    }
  },
  "cells": [
    {
      "cell_type": "markdown",
      "metadata": {
        "id": "view-in-github",
        "colab_type": "text"
      },
      "source": [
        "<a href=\"https://colab.research.google.com/github/josh1478/Linear-Algebra-58020/blob/main/Determinant_Matrix.ipynb\" target=\"_parent\"><img src=\"https://colab.research.google.com/assets/colab-badge.svg\" alt=\"Open In Colab\"/></a>"
      ]
    },
    {
      "cell_type": "code",
      "metadata": {
        "colab": {
          "base_uri": "https://localhost:8080/"
        },
        "id": "1BvaXzz1SRrY",
        "outputId": "e7c42791-ba53-4b87-c4c2-f8112586fd7e"
      },
      "source": [
        "import numpy as np\n",
        "A = np.array([[1,2,-1],[4,6,-2],[-1,3,3]])\n",
        "print(round(np.linalg.det(A)))"
      ],
      "execution_count": 8,
      "outputs": [
        {
          "output_type": "stream",
          "name": "stdout",
          "text": [
            "-14\n"
          ]
        }
      ]
    }
  ]
}