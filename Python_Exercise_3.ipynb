{
  "nbformat": 4,
  "nbformat_minor": 0,
  "metadata": {
    "colab": {
      "name": "Python Exercise 3.ipynb",
      "provenance": [],
      "authorship_tag": "ABX9TyNDRJOnVIlc5PCo43v/eYpo",
      "include_colab_link": true
    },
    "kernelspec": {
      "name": "python3",
      "display_name": "Python 3"
    },
    "language_info": {
      "name": "python"
    }
  },
  "cells": [
    {
      "cell_type": "markdown",
      "metadata": {
        "id": "view-in-github",
        "colab_type": "text"
      },
      "source": [
        "<a href=\"https://colab.research.google.com/github/josh1478/Linear-Algebra-58020/blob/main/Python_Exercise_3.ipynb\" target=\"_parent\"><img src=\"https://colab.research.google.com/assets/colab-badge.svg\" alt=\"Open In Colab\"/></a>"
      ]
    },
    {
      "cell_type": "markdown",
      "metadata": {
        "id": "m6EvI5eLjZ2G"
      },
      "source": [
        "Linear Transformation"
      ]
    },
    {
      "cell_type": "code",
      "metadata": {
        "colab": {
          "base_uri": "https://localhost:8080/"
        },
        "id": "4CGT2sRxjaoN",
        "outputId": "0810a617-b84e-42ac-86b5-5841cf2ba6e9"
      },
      "source": [
        "import numpy as np\n",
        "A = np.array([[1, 1, 1], [1, 2, 2], [1, 2, 3]])\n",
        "B = np.array([5, 6, 8])\n",
        "\n",
        "#AA^-1X=BA^-1\n",
        "X = np.linalg.inv(A).dot(B)\n",
        "print(X)\n"
      ],
      "execution_count": 3,
      "outputs": [
        {
          "output_type": "stream",
          "name": "stdout",
          "text": [
            "[ 4. -1.  2.]\n"
          ]
        }
      ]
    }
  ]
}