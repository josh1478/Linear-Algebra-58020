{
  "nbformat": 4,
  "nbformat_minor": 0,
  "metadata": {
    "colab": {
      "name": "Coding Activity 3.ipynb",
      "provenance": [],
      "authorship_tag": "ABX9TyMLnMDJxfNI6zDZjHWnvC18",
      "include_colab_link": true
    },
    "kernelspec": {
      "name": "python3",
      "display_name": "Python 3"
    },
    "language_info": {
      "name": "python"
    }
  },
  "cells": [
    {
      "cell_type": "markdown",
      "metadata": {
        "id": "view-in-github",
        "colab_type": "text"
      },
      "source": [
        "<a href=\"https://colab.research.google.com/github/josh1478/Linear-Algebra-58020/blob/main/Coding_Activity_3.ipynb\" target=\"_parent\"><img src=\"https://colab.research.google.com/assets/colab-badge.svg\" alt=\"Open In Colab\"/></a>"
      ]
    },
    {
      "cell_type": "markdown",
      "metadata": {
        "id": "sZcmQh8lgEPY"
      },
      "source": [
        "Coding Activity 3 \n",
        "\n"
      ]
    },
    {
      "cell_type": "code",
      "metadata": {
        "colab": {
          "base_uri": "https://localhost:8080/"
        },
        "id": "bJSsJNVagGbZ",
        "outputId": "1ac0ac2a-2015-4bc5-ae2e-942dfb8a1663"
      },
      "source": [
        "#Python programing that applies inverse and transpose\n",
        "import numpy as np\n",
        "A = np.array([[3,2],[1,0]])\n",
        "print(A)\n",
        "inverse = (np.linalg.inv(A))\n",
        "print(inverse)"
      ],
      "execution_count": 16,
      "outputs": [
        {
          "output_type": "stream",
          "name": "stdout",
          "text": [
            "[[3 2]\n",
            " [1 0]]\n",
            "[[ 0.   1. ]\n",
            " [ 0.5 -1.5]]\n"
          ]
        }
      ]
    },
    {
      "cell_type": "code",
      "metadata": {
        "colab": {
          "base_uri": "https://localhost:8080/"
        },
        "id": "ybabxcA7hwLJ",
        "outputId": "924080b2-af49-46c7-ef47-9ed2e86c9fb8"
      },
      "source": [
        "B = np.dot(A,inverse)\n",
        "print(B)"
      ],
      "execution_count": 14,
      "outputs": [
        {
          "output_type": "stream",
          "name": "stdout",
          "text": [
            "[[ 1.00000000e+00  0.00000000e+00 -5.55111512e-17]\n",
            " [-1.66533454e-16  1.00000000e+00 -5.55111512e-17]\n",
            " [ 0.00000000e+00  0.00000000e+00  1.00000000e+00]]\n"
          ]
        }
      ]
    },
    {
      "cell_type": "code",
      "metadata": {
        "colab": {
          "base_uri": "https://localhost:8080/"
        },
        "id": "gdxl-RsRh_xW",
        "outputId": "df896edc-2b8d-4121-e542-7b2e37f23cdc"
      },
      "source": [
        "#Python Programming to Transpose a 3x3 Matrix A \n",
        "#Showing below how to transpose the value in the array\n",
        "A = np.array([[3,4,3],[8,-4,9],[7,5,6]])\n",
        "print(A)\n",
        "B = np.transpose(A)\n",
        "print(B)"
      ],
      "execution_count": 18,
      "outputs": [
        {
          "output_type": "stream",
          "name": "stdout",
          "text": [
            "[[ 3  4  3]\n",
            " [ 8 -4  9]\n",
            " [ 7  5  6]]\n",
            "[[ 3  8  7]\n",
            " [ 4 -4  5]\n",
            " [ 3  9  6]]\n"
          ]
        }
      ]
    },
    {
      "cell_type": "code",
      "metadata": {
        "colab": {
          "base_uri": "https://localhost:8080/"
        },
        "id": "t7AUlzPUiBKh",
        "outputId": "e6eae4f1-2746-4e8d-e09c-9dc64528e481"
      },
      "source": [
        "#Python Programming to Inverse a 3x3 Matrix A \n",
        "#Showing below how to inverse the value in the array\n",
        "A = np.array([[3,4,3],[8,-4,9],[7,5,6]])\n",
        "print(A)\n",
        "inverse = (np.linalg.inv(A))\n",
        "print(inverse)"
      ],
      "execution_count": 19,
      "outputs": [
        {
          "output_type": "stream",
          "name": "stdout",
          "text": [
            "[[ 3  4  3]\n",
            " [ 8 -4  9]\n",
            " [ 7  5  6]]\n",
            "[[-1.21052632 -0.15789474  0.84210526]\n",
            " [ 0.26315789 -0.05263158 -0.05263158]\n",
            " [ 1.19298246  0.22807018 -0.77192982]]\n"
          ]
        }
      ]
    }
  ]
}