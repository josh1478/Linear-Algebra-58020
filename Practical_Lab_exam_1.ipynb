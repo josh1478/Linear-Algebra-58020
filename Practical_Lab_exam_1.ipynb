{
  "nbformat": 4,
  "nbformat_minor": 0,
  "metadata": {
    "colab": {
      "name": "Practical Lab exam 1.ipynb",
      "provenance": [],
      "authorship_tag": "ABX9TyPK5eHm8g9nqCIYZLOAIGEa",
      "include_colab_link": true
    },
    "kernelspec": {
      "name": "python3",
      "display_name": "Python 3"
    },
    "language_info": {
      "name": "python"
    }
  },
  "cells": [
    {
      "cell_type": "markdown",
      "metadata": {
        "id": "view-in-github",
        "colab_type": "text"
      },
      "source": [
        "<a href=\"https://colab.research.google.com/github/josh1478/Linear-Algebra-58020/blob/main/Practical_Lab_exam_1.ipynb\" target=\"_parent\"><img src=\"https://colab.research.google.com/assets/colab-badge.svg\" alt=\"Open In Colab\"/></a>"
      ]
    },
    {
      "cell_type": "markdown",
      "metadata": {
        "id": "IFE-lBug_BPl"
      },
      "source": [
        "Practical Lab exam 1"
      ]
    },
    {
      "cell_type": "markdown",
      "metadata": {
        "id": "d8pf2qpeVT8z"
      },
      "source": [
        "Probelm 1"
      ]
    },
    {
      "cell_type": "code",
      "metadata": {
        "colab": {
          "base_uri": "https://localhost:8080/"
        },
        "id": "EcVneDM4_Fru",
        "outputId": "8908fd43-ac9b-4a27-e9cd-2f5608fbcd8f"
      },
      "source": [
        "import numpy as np\n",
        "#a.WY\n",
        "W = np.array ([[1,-3],[2,-2],[3,1]])\n",
        "Y = np.array ([[1,2,0],[0,-1,2]])\n",
        "output = np.dot(W,Y)\n",
        "print(output)"
      ],
      "execution_count": 24,
      "outputs": [
        {
          "output_type": "stream",
          "name": "stdout",
          "text": [
            "[[ 1  5 -6]\n",
            " [ 2  6 -4]\n",
            " [ 3  5  2]]\n"
          ]
        }
      ]
    },
    {
      "cell_type": "code",
      "metadata": {
        "colab": {
          "base_uri": "https://localhost:8080/"
        },
        "id": "evE20R6PAcDW",
        "outputId": "1c1151b3-0545-40a1-df75-29205c979ebb"
      },
      "source": [
        "#b.Z+Z\n",
        "Z = np.array ([[0,1],[2,3]])\n",
        "Z = np.array ([[0,1],[2,3]])\n",
        "print(Z+Z)"
      ],
      "execution_count": 7,
      "outputs": [
        {
          "output_type": "stream",
          "name": "stdout",
          "text": [
            "[[0 2]\n",
            " [4 6]]\n"
          ]
        }
      ]
    },
    {
      "cell_type": "code",
      "metadata": {
        "colab": {
          "base_uri": "https://localhost:8080/"
        },
        "id": "s7ElpDZTB3kj",
        "outputId": "f8c827aa-709f-4a5a-df0e-5cee35bd311b"
      },
      "source": [
        "#c.3X\n",
        "x = np.array ([[3,2,1],[-1,2,3],[2,-1,1]])\n",
        "print(3*x)"
      ],
      "execution_count": 20,
      "outputs": [
        {
          "output_type": "stream",
          "name": "stdout",
          "text": [
            "[[ 9  6  3]\n",
            " [-3  6  9]\n",
            " [ 6 -3  3]]\n"
          ]
        }
      ]
    },
    {
      "cell_type": "markdown",
      "metadata": {
        "id": "xd_nUS0-E-wT"
      },
      "source": [
        "Problem 2"
      ]
    },
    {
      "cell_type": "code",
      "metadata": {
        "colab": {
          "base_uri": "https://localhost:8080/"
        },
        "id": "rGfeCylaFCKv",
        "outputId": "5a965b50-3d0f-4390-8376-f9f7186fa2ee"
      },
      "source": [
        "#a. The product (YW)2 is not defined\n",
        "YW = np.dot (Y,W)\n",
        "n = ('FALSE')\n",
        "print(np.square(YW))\n",
        "print(n)"
      ],
      "execution_count": 60,
      "outputs": [
        {
          "output_type": "stream",
          "name": "stdout",
          "text": [
            "[[25 49]\n",
            " [16 16]]\n",
            "FALSE\n"
          ]
        }
      ]
    },
    {
      "cell_type": "code",
      "metadata": {
        "colab": {
          "base_uri": "https://localhost:8080/"
        },
        "id": "xqQlp4WlGTP7",
        "outputId": "dbc9b6f9-248f-4b57-f1ad-be4c155f16e4"
      },
      "source": [
        "#b. WY – X \n",
        "W = np.array ([[1,-3],[2,-2],[3,1]])\n",
        "Y = np.array ([[1,2,0],[0,-1,2]])\n",
        "x = np.array ([[3,2,1],[-1,2,3],[2,-1,1]])\n",
        "o = np.dot(W,Y)\n",
        "m = ('TRUE')\n",
        "print(o-x)\n",
        "print(m)\n"
      ],
      "execution_count": 52,
      "outputs": [
        {
          "output_type": "stream",
          "name": "stdout",
          "text": [
            "[[-2  3 -7]\n",
            " [ 3  4 -7]\n",
            " [ 1  6  1]]\n",
            "TRUE\n"
          ]
        }
      ]
    },
    {
      "cell_type": "code",
      "metadata": {
        "colab": {
          "base_uri": "https://localhost:8080/"
        },
        "id": "vzZ46JkUNMBy",
        "outputId": "7cc1da97-90f3-4a4c-b4bf-8e1270627261"
      },
      "source": [
        " #YW – Z2 \n",
        "W = np.array ([[1,-3],[2,-2],[3,1]])\n",
        "Y = np.array ([[1,2,0],[0,-1,2]])\n",
        "Z = np.array ([[0,1],[2,3]])\n",
        "o = np.dot(Y,W)\n",
        "h = ('TRUE')\n",
        "print(o-Z*Z)\n",
        "print(h)\n",
        "\n"
      ],
      "execution_count": 51,
      "outputs": [
        {
          "output_type": "stream",
          "name": "stdout",
          "text": [
            "[[ 5 -8]\n",
            " [ 0 -5]]\n",
            "TRUE\n"
          ]
        }
      ]
    }
  ]
}