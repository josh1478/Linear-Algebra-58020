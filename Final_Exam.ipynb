{
  "nbformat": 4,
  "nbformat_minor": 0,
  "metadata": {
    "colab": {
      "name": "Final Exam.ipynb",
      "provenance": [],
      "authorship_tag": "ABX9TyNQnDtlznZHdGbwm1BCpMiu",
      "include_colab_link": true
    },
    "kernelspec": {
      "name": "python3",
      "display_name": "Python 3"
    },
    "language_info": {
      "name": "python"
    }
  },
  "cells": [
    {
      "cell_type": "markdown",
      "metadata": {
        "id": "view-in-github",
        "colab_type": "text"
      },
      "source": [
        "<a href=\"https://colab.research.google.com/github/josh1478/Linear-Algebra-58020/blob/main/Final_Exam.ipynb\" target=\"_parent\"><img src=\"https://colab.research.google.com/assets/colab-badge.svg\" alt=\"Open In Colab\"/></a>"
      ]
    },
    {
      "cell_type": "markdown",
      "source": [
        "Final Exam"
      ],
      "metadata": {
        "id": "7Y9Ypdy2GwjJ"
      }
    },
    {
      "cell_type": "markdown",
      "source": [
        "Problem 1. Student A, Student B, and Student C have a total of Php 89 cash in their banks. Student A has 6 less than Student C. Student B has 3 times what Student C has. How much does each student have? (30 points)"
      ],
      "metadata": {
        "id": "CspatufxG0_F"
      }
    },
    {
      "cell_type": "code",
      "source": [
        "import numpy as np \n",
        "#To get how much money each student have. \n",
        "#([[1, 1, 1], #co-efficients from left hand side of eq - i\n",
        "#[-1, 0, 1], co-efficients from left hand side of eq - iv\n",
        "#[0, 1, -3]]) co-efficients from left hand side of eq - v\n",
        "#([89, 6, 0]) #right hand side values of eq - i, iv and v\n",
        "#Now we can now solve the using \"np.linalg.inv(ecq).dot(ecq)\"\n",
        "eq1 = np.array([[1,1,1],[1,0,4],[0,0,5]])\n",
        "eq2 = np.array([[89],[89],[95]])\n",
        "amt = np.linalg.inv(eq1).dot(eq2)\n",
        "print(amt)"
      ],
      "metadata": {
        "colab": {
          "base_uri": "https://localhost:8080/"
        },
        "id": "mFGkKtkDG2qS",
        "outputId": "35578519-bd6d-481a-e53b-e4e7f0c273a1"
      },
      "execution_count": 14,
      "outputs": [
        {
          "output_type": "stream",
          "name": "stdout",
          "text": [
            "[[13.]\n",
            " [57.]\n",
            " [19.]]\n"
          ]
        }
      ]
    },
    {
      "cell_type": "markdown",
      "source": [
        "Problem 2. Solve each system: (30 points)\n",
        "\n",
        "3x - y + z = 5\n",
        "\n",
        "9x - 3y +3z = 15\n",
        "\n",
        "-12x +4y -4z = -20 "
      ],
      "metadata": {
        "id": "XNlDZK0OHCqR"
      }
    },
    {
      "cell_type": "code",
      "source": [
        "# Unable to solve due to values are the same if we solve this equation it will have an error "
      ],
      "metadata": {
        "id": "4EOaaAQDHDv8"
      },
      "execution_count": 12,
      "outputs": []
    },
    {
      "cell_type": "markdown",
      "source": [
        "Problem 3. Consider the matrix, (40 points)\n",
        "Find the eigenvalue/s\n",
        "Find the eigenvectors"
      ],
      "metadata": {
        "id": "RQR6GNENHEmZ"
      }
    },
    {
      "cell_type": "code",
      "source": [
        "#To get the Eigenvalue and Eigenvectors is i used \"np.linalg.eig\"\n",
        "A = np.array ([[8,5,-6],[-12,9,12],[-3,-3,5]])\n",
        "print(A)\n",
        "\n",
        "W,V = np.linalg.eig(A) \n",
        "print(\"The Eigenvalue/s is/are: \",W)\n",
        "print(\"The right eigenvectors are:\",V)\n",
        "#X = V.round()\n",
        "#print(X)"
      ],
      "metadata": {
        "colab": {
          "base_uri": "https://localhost:8080/"
        },
        "id": "h03ExVC1HILJ",
        "outputId": "c2401dcf-4e1c-4a86-87a7-c9900f974008"
      },
      "execution_count": 5,
      "outputs": [
        {
          "output_type": "stream",
          "name": "stdout",
          "text": [
            "[[  8   5  -6]\n",
            " [-12   9  12]\n",
            " [ -3  -3   5]]\n",
            "The Eigenvalue/s is/are:  [10.+9.74679434j 10.-9.74679434j  2.+0.j        ]\n",
            "The right eigenvectors are: [[-6.19826768e-02-0.44653265j -6.19826768e-02+0.44653265j\n",
            "   7.07106781e-01+0.j        ]\n",
            " [ 8.56977879e-01+0.j          8.56977879e-01-0.j\n",
            "  -1.66861154e-16+0.j        ]\n",
            " [ 9.43214647e-03+0.24953295j  9.43214647e-03-0.24953295j\n",
            "   7.07106781e-01+0.j        ]]\n"
          ]
        }
      ]
    }
  ]
}