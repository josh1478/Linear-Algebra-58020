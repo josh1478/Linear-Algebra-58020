{
  "nbformat": 4,
  "nbformat_minor": 0,
  "metadata": {
    "colab": {
      "name": "Midterm Exam.ipynb",
      "provenance": [],
      "authorship_tag": "ABX9TyP7+YIJyYQRVEOdb3WsHJqS",
      "include_colab_link": true
    },
    "kernelspec": {
      "name": "python3",
      "display_name": "Python 3"
    },
    "language_info": {
      "name": "python"
    }
  },
  "cells": [
    {
      "cell_type": "markdown",
      "metadata": {
        "id": "view-in-github",
        "colab_type": "text"
      },
      "source": [
        "<a href=\"https://colab.research.google.com/github/josh1478/Linear-Algebra-58020/blob/main/Midterm_Exam.ipynb\" target=\"_parent\"><img src=\"https://colab.research.google.com/assets/colab-badge.svg\" alt=\"Open In Colab\"/></a>"
      ]
    },
    {
      "cell_type": "markdown",
      "metadata": {
        "id": "TPGF3_dK3Cge"
      },
      "source": [
        "Midterm Exam"
      ]
    },
    {
      "cell_type": "markdown",
      "metadata": {
        "id": "D1-5xhsR3LlC"
      },
      "source": [
        "Question 1. Create a Python code that displays a square matrix whose length is 5 (10 points)"
      ]
    },
    {
      "cell_type": "code",
      "metadata": {
        "colab": {
          "base_uri": "https://localhost:8080/"
        },
        "id": "Vg1zkY_d3Nqe",
        "outputId": "e4a6df55-1abe-46eb-88f2-128c21a0b83e"
      },
      "source": [
        "import numpy as np\n",
        "# To create a 5 lenght square matrix i've created a random array\n",
        "x = np.array ([[5,4,1,12,13],[10,9,4,3,1],[10,13,15,14,15],[31,32,33,34,35],[41,42,43,44,45]])\n",
        "print(x) "
      ],
      "execution_count": null,
      "outputs": [
        {
          "output_type": "stream",
          "name": "stdout",
          "text": [
            "[[ 5  4  1 12 13]\n",
            " [10  9  4  3  1]\n",
            " [10 13 15 14 15]\n",
            " [31 32 33 34 35]\n",
            " [41 42 43 44 45]]\n"
          ]
        }
      ]
    },
    {
      "cell_type": "markdown",
      "metadata": {
        "id": "k11jV11z4LjA"
      },
      "source": [
        "Question 2. Create a Python code that displays a square matrix whose elements below the principal diagonal are zero (10 points)"
      ]
    },
    {
      "cell_type": "code",
      "metadata": {
        "colab": {
          "base_uri": "https://localhost:8080/"
        },
        "id": "XhkddAGt4OGT",
        "outputId": "d8d4b451-8730-4a01-e038-e526c7b2df5e"
      },
      "source": [
        "#To display a diagonal zero where i create a upper triangle \"np.triu\"\n",
        "A = np.triu([[4,5,6],[9,8,4],[1,2,3]])\n",
        "print(A)"
      ],
      "execution_count": null,
      "outputs": [
        {
          "output_type": "stream",
          "name": "stdout",
          "text": [
            "[[4 5 6]\n",
            " [0 8 4]\n",
            " [0 0 3]]\n"
          ]
        }
      ]
    },
    {
      "cell_type": "markdown",
      "metadata": {
        "id": "UGSaObPp4PiX"
      },
      "source": [
        "Question 3. Create a Python code that displays a square matrix which is symmetrical (10 points)"
      ]
    },
    {
      "cell_type": "code",
      "metadata": {
        "colab": {
          "base_uri": "https://localhost:8080/"
        },
        "id": "a5SxJS9g4TEl",
        "outputId": "cfda9b92-a15a-4838-fddd-3d38522af341"
      },
      "source": [
        "# To display a symmetrical i've use transpose\n",
        "Z = np.array ([[2,3,1],[6,5,4],[9,8,7]])\n",
        "print(Z)\n",
        "print(np.transpose(Z))"
      ],
      "execution_count": null,
      "outputs": [
        {
          "output_type": "stream",
          "name": "stdout",
          "text": [
            "[[2 3 1]\n",
            " [6 5 4]\n",
            " [9 8 7]]\n",
            "[[2 6 9]\n",
            " [3 5 8]\n",
            " [1 4 7]]\n"
          ]
        }
      ]
    },
    {
      "cell_type": "markdown",
      "metadata": {
        "id": "QOqHvJDI4TxJ"
      },
      "source": [
        "Question 4. What is the inverse of matrix C? Show your solution by python coding. (20 points)"
      ]
    },
    {
      "cell_type": "code",
      "metadata": {
        "colab": {
          "base_uri": "https://localhost:8080/"
        },
        "id": "fv-QBtuG4XeA",
        "outputId": "4adb4d86-3e4d-4c5c-943f-4f8f1289eadd"
      },
      "source": [
        "# To create a inverse for the given question\n",
        "A = np.array([[1,2,3], [2,3,3],[3,4,-2]])\n",
        "B = np.linalg.inv(A)\n",
        "print(A)\n",
        "print(B)"
      ],
      "execution_count": null,
      "outputs": [
        {
          "output_type": "stream",
          "name": "stdout",
          "text": [
            "[[ 1  2  3]\n",
            " [ 2  3  3]\n",
            " [ 3  4 -2]]\n",
            "[[-3.6  3.2 -0.6]\n",
            " [ 2.6 -2.2  0.6]\n",
            " [-0.2  0.4 -0.2]]\n"
          ]
        }
      ]
    },
    {
      "cell_type": "markdown",
      "metadata": {
        "id": "Kt1kFVPW4Yeg"
      },
      "source": [
        "Question 5. What is the determinant of the given matrix in Question 4? Show your solution by python coding. (20 points)"
      ]
    },
    {
      "cell_type": "code",
      "metadata": {
        "colab": {
          "base_uri": "https://localhost:8080/"
        },
        "id": "qCfudKRY4ajL",
        "outputId": "0961ede7-1609-4921-981b-5f0222290180"
      },
      "source": [
        "# To find the determinant i've just replace the \"inv\" to \"det\"\n",
        "A = np.array([[1,2,3], [2,3,3],[3,4,-2]])\n",
        "B = np.linalg.det(A)\n",
        "print(A)\n",
        "print(B)"
      ],
      "execution_count": null,
      "outputs": [
        {
          "output_type": "stream",
          "name": "stdout",
          "text": [
            "[[ 1  2  3]\n",
            " [ 2  3  3]\n",
            " [ 3  4 -2]]\n",
            "5.000000000000001\n"
          ]
        }
      ]
    },
    {
      "cell_type": "markdown",
      "metadata": {
        "id": "27sFFfRQ4b3v"
      },
      "source": [
        "Question 6. Find the roots of the linear equations by showing its python codes (30 points)"
      ]
    },
    {
      "cell_type": "code",
      "metadata": {
        "colab": {
          "base_uri": "https://localhost:8080/"
        },
        "id": "4-pRpDXQ4dr3",
        "outputId": "344d917d-6335-4ddd-a2b9-87cdeb03bb5b"
      },
      "source": [
        "# To find the roots enter the first given number and let the program solve it. \n",
        "C = np.array ([[5,4,1],[10,9,4],[10,13,15]])\n",
        "D = np.array ([3.4,8.8,19.2])\n",
        "E = np.linalg.solve(C,D)\n",
        "print(C)\n",
        "print(D)\n",
        "print(E)"
      ],
      "execution_count": 23,
      "outputs": [
        {
          "output_type": "stream",
          "name": "stdout",
          "text": [
            "[[ 5  4  1]\n",
            " [10  9  4]\n",
            " [10 13 15]]\n",
            "[ 3.4  8.8 19.2]\n",
            "[0.2 0.4 0.8]\n"
          ]
        }
      ]
    }
  ]
}