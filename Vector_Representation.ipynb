{
  "nbformat": 4,
  "nbformat_minor": 0,
  "metadata": {
    "colab": {
      "name": "Vector Representation",
      "provenance": [],
      "authorship_tag": "ABX9TyPVhv1xYuSibPfpSe0URBvz",
      "include_colab_link": true
    },
    "kernelspec": {
      "name": "python3",
      "display_name": "Python 3"
    },
    "language_info": {
      "name": "python"
    }
  },
  "cells": [
    {
      "cell_type": "markdown",
      "metadata": {
        "id": "view-in-github",
        "colab_type": "text"
      },
      "source": [
        "<a href=\"https://colab.research.google.com/github/josh1478/Linear-Algebra-58020/blob/main/Vector_Representation.ipynb\" target=\"_parent\"><img src=\"https://colab.research.google.com/assets/colab-badge.svg\" alt=\"Open In Colab\"/></a>"
      ]
    },
    {
      "cell_type": "markdown",
      "metadata": {
        "id": "Dg9qGljpA5Ew"
      },
      "source": [
        "#Matrix and its operation"
      ]
    },
    {
      "cell_type": "code",
      "metadata": {
        "colab": {
          "base_uri": "https://localhost:8080/"
        },
        "id": "j_6QUaiQBFNM",
        "outputId": "b8498afb-de73-4c2a-a6f0-8e737205815c"
      },
      "source": [
        "import numpy as np \n",
        "#Create a 1x3 matrix\n",
        "a = np.array([1,2,3])\n",
        "print(a)"
      ],
      "execution_count": 1,
      "outputs": [
        {
          "output_type": "stream",
          "name": "stdout",
          "text": [
            "[1 2 3]\n"
          ]
        }
      ]
    },
    {
      "cell_type": "code",
      "metadata": {
        "colab": {
          "base_uri": "https://localhost:8080/"
        },
        "id": "2TbTDwkBB5r6",
        "outputId": "39919c41-6a8d-4cc5-e8da-5260cf0d1683"
      },
      "source": [
        "#Create a 2 x 3 matrix \n",
        "b = np.array([[1,2,3],[4,5,6]]) #This is an example of rectangular array \n",
        "print(b)"
      ],
      "execution_count": 2,
      "outputs": [
        {
          "output_type": "stream",
          "name": "stdout",
          "text": [
            "[[1 2 3]\n",
            " [4 5 6]]\n"
          ]
        }
      ]
    },
    {
      "cell_type": "code",
      "metadata": {
        "colab": {
          "base_uri": "https://localhost:8080/"
        },
        "id": "ACPzxYswCZjk",
        "outputId": "974b8d0c-d487-4f44-9304-959a8b522fb3"
      },
      "source": [
        "#Create a 3x3 matrix \n",
        "c = np.array ([[1,2,3],[4,5,6],[7,8,9]])\n",
        "print(c)"
      ],
      "execution_count": 4,
      "outputs": [
        {
          "output_type": "stream",
          "name": "stdout",
          "text": [
            "[[1 2 3]\n",
            " [4 5 6]\n",
            " [7 8 9]]\n"
          ]
        }
      ]
    },
    {
      "cell_type": "code",
      "metadata": {
        "colab": {
          "base_uri": "https://localhost:8080/"
        },
        "id": "Sw1yo--dDArU",
        "outputId": "c20c3c20-129a-4912-c222-d7829dd677bc"
      },
      "source": [
        "#Create  a constant array with all values are 7  \n",
        "d = np.full((4,4),7) #This is an example of square matrix \n",
        "print(d)"
      ],
      "execution_count": 6,
      "outputs": [
        {
          "output_type": "stream",
          "name": "stdout",
          "text": [
            "[[7 7 7 7]\n",
            " [7 7 7 7]\n",
            " [7 7 7 7]\n",
            " [7 7 7 7]]\n"
          ]
        }
      ]
    },
    {
      "cell_type": "code",
      "metadata": {
        "colab": {
          "base_uri": "https://localhost:8080/"
        },
        "id": "NrBrFIs0Dk9w",
        "outputId": "9d58425d-e75b-464f-e6a5-91ae05d2176b"
      },
      "source": [
        "#Create a diagonal matrix \n",
        "e = np.array([[1,2,3],[4,5,6],[7,8,9]])\n",
        "print(e)\n",
        "e = np.diagonal([[1,2,3],[4,5,6],[7,8,9]])\n",
        "print(e)"
      ],
      "execution_count": 10,
      "outputs": [
        {
          "output_type": "stream",
          "name": "stdout",
          "text": [
            "[[1 2 3]\n",
            " [4 5 6]\n",
            " [7 8 9]]\n",
            "[1 5 9]\n"
          ]
        }
      ]
    },
    {
      "cell_type": "code",
      "metadata": {
        "colab": {
          "base_uri": "https://localhost:8080/"
        },
        "id": "pX-BKhoMEa_W",
        "outputId": "fd596671-a282-4066-a036-be6c11fc3754"
      },
      "source": [
        "#Create an identity matrix \n",
        "f = np.eye(5)\n",
        "print(f)"
      ],
      "execution_count": 11,
      "outputs": [
        {
          "output_type": "stream",
          "name": "stdout",
          "text": [
            "[[1. 0. 0. 0. 0.]\n",
            " [0. 1. 0. 0. 0.]\n",
            " [0. 0. 1. 0. 0.]\n",
            " [0. 0. 0. 1. 0.]\n",
            " [0. 0. 0. 0. 1.]]\n"
          ]
        }
      ]
    },
    {
      "cell_type": "code",
      "metadata": {
        "colab": {
          "base_uri": "https://localhost:8080/"
        },
        "id": "BBoGoU-TE1nC",
        "outputId": "e28f6811-e212-4ddb-e667-483916aa004f"
      },
      "source": [
        "#Create a zero matrix \n",
        "g = np.zeros((4,5))\n",
        "print(g)"
      ],
      "execution_count": 15,
      "outputs": [
        {
          "output_type": "stream",
          "name": "stdout",
          "text": [
            "[[0. 0. 0. 0. 0.]\n",
            " [0. 0. 0. 0. 0.]\n",
            " [0. 0. 0. 0. 0.]\n",
            " [0. 0. 0. 0. 0.]]\n"
          ]
        }
      ]
    },
    {
      "cell_type": "code",
      "metadata": {
        "colab": {
          "base_uri": "https://localhost:8080/"
        },
        "id": "rIriiOoZFU4N",
        "outputId": "5814ae8d-5cc4-490a-deb5-e08d09c840ca"
      },
      "source": [
        "#Create an empty matrix\n",
        "h = np.empty((0,5))\n",
        "print(h)"
      ],
      "execution_count": 16,
      "outputs": [
        {
          "output_type": "stream",
          "name": "stdout",
          "text": [
            "[]\n"
          ]
        }
      ]
    },
    {
      "cell_type": "code",
      "metadata": {
        "colab": {
          "base_uri": "https://localhost:8080/"
        },
        "id": "JBRL8QG8Fw2r",
        "outputId": "8f67b992-cd8d-4a1d-a124-f94eb3f1b6b1"
      },
      "source": [
        "#Addition of Matrix \n",
        "i = np.array([[1,2,3],[4,5,6]])\n",
        "j = np.zeros((2,3))\n",
        "print(i+j)"
      ],
      "execution_count": 17,
      "outputs": [
        {
          "output_type": "stream",
          "name": "stdout",
          "text": [
            "[[1. 2. 3.]\n",
            " [4. 5. 6.]]\n"
          ]
        }
      ]
    },
    {
      "cell_type": "code",
      "metadata": {
        "colab": {
          "base_uri": "https://localhost:8080/"
        },
        "id": "CltzXJrQGSuk",
        "outputId": "9043f2d3-d25f-43f1-ac11-6c881446a66f"
      },
      "source": [
        "#Subraction Matrices\n",
        "i = np.array([[1,2,3],[4,5,6]])\n",
        "j = np.array([[-1,2,4],[7,4,2]])\n",
        "print(i-j)"
      ],
      "execution_count": 19,
      "outputs": [
        {
          "output_type": "stream",
          "name": "stdout",
          "text": [
            "[[-1  4 12]\n",
            " [28 20 12]]\n"
          ]
        }
      ]
    }
  ]
}