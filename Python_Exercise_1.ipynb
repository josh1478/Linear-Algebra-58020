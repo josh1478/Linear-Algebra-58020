{
  "nbformat": 4,
  "nbformat_minor": 0,
  "metadata": {
    "colab": {
      "name": "Python Exercise 1.ipynb",
      "provenance": [],
      "authorship_tag": "ABX9TyPvrIg8mGNbeNmPSZPThvT1",
      "include_colab_link": true
    },
    "kernelspec": {
      "name": "python3",
      "display_name": "Python 3"
    },
    "language_info": {
      "name": "python"
    }
  },
  "cells": [
    {
      "cell_type": "markdown",
      "metadata": {
        "id": "view-in-github",
        "colab_type": "text"
      },
      "source": [
        "<a href=\"https://colab.research.google.com/github/josh1478/Linear-Algebra-58020/blob/main/Python_Exercise_1.ipynb\" target=\"_parent\"><img src=\"https://colab.research.google.com/assets/colab-badge.svg\" alt=\"Open In Colab\"/></a>"
      ]
    },
    {
      "cell_type": "markdown",
      "metadata": {
        "id": "0B73KoKPMx58"
      },
      "source": [
        "Matrix and Its Operations"
      ]
    },
    {
      "cell_type": "code",
      "metadata": {
        "colab": {
          "base_uri": "https://localhost:8080/"
        },
        "id": "8TLh5A88MzlK",
        "outputId": "f7b3d84e-3018-47a7-9d7c-80051486b8d1"
      },
      "source": [
        "import numpy as np\n",
        "#Sum A+B\n",
        "a = np.array ([[-5,0],[4,1]])\n",
        "b = np.array ([[6,-3],[2,3]])\n",
        "print(a+b)"
      ],
      "execution_count": 23,
      "outputs": [
        {
          "output_type": "stream",
          "name": "stdout",
          "text": [
            "[[ 1 -3]\n",
            " [ 6  4]]\n"
          ]
        }
      ]
    },
    {
      "cell_type": "code",
      "metadata": {
        "colab": {
          "base_uri": "https://localhost:8080/"
        },
        "id": "K1m468ZdQ07e",
        "outputId": "3dbf99a3-c1c0-450e-c45b-f91a1bca0c1a"
      },
      "source": [
        "#Subtraction A-B\n",
        "a = np.array ([[-5,0],[4,1]])\n",
        "b = np.array ([[6,-3],[2,3]])\n",
        "print(a-b)"
      ],
      "execution_count": 24,
      "outputs": [
        {
          "output_type": "stream",
          "name": "stdout",
          "text": [
            "[[-11   3]\n",
            " [  2  -2]]\n"
          ]
        }
      ]
    },
    {
      "cell_type": "code",
      "metadata": {
        "colab": {
          "base_uri": "https://localhost:8080/"
        },
        "id": "4GJ7yvWxSZiM",
        "outputId": "181ca239-0879-444d-a43b-95ee3fdb75ee"
      },
      "source": [
        "#subraction B-B\n",
        "a = np.array ([[6,-3],[2,3]])\n",
        "b = np.array ([[6,-3],[2,3]])\n",
        "print(a-b)"
      ],
      "execution_count": 25,
      "outputs": [
        {
          "output_type": "stream",
          "name": "stdout",
          "text": [
            "[[0 0]\n",
            " [0 0]]\n"
          ]
        }
      ]
    }
  ]
}