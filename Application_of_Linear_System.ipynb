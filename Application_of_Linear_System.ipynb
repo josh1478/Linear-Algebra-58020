{
  "nbformat": 4,
  "nbformat_minor": 0,
  "metadata": {
    "colab": {
      "name": "Application of Linear System.ipynb",
      "provenance": [],
      "authorship_tag": "ABX9TyPfQWRS+F8Ck0jb6kqVingK",
      "include_colab_link": true
    },
    "kernelspec": {
      "name": "python3",
      "display_name": "Python 3"
    },
    "language_info": {
      "name": "python"
    }
  },
  "cells": [
    {
      "cell_type": "markdown",
      "metadata": {
        "id": "view-in-github",
        "colab_type": "text"
      },
      "source": [
        "<a href=\"https://colab.research.google.com/github/josh1478/Linear-Algebra-58020/blob/main/Application_of_Linear_System.ipynb\" target=\"_parent\"><img src=\"https://colab.research.google.com/assets/colab-badge.svg\" alt=\"Open In Colab\"/></a>"
      ]
    },
    {
      "cell_type": "markdown",
      "metadata": {
        "id": "D_Meu7mtX5wh"
      },
      "source": [
        "##System of Linear Equations "
      ]
    },
    {
      "cell_type": "markdown",
      "metadata": {
        "id": "jT4iH5wpYB3T"
      },
      "source": [
        "###System of Linear Equations can be solved with arrays and NumPy "
      ]
    },
    {
      "cell_type": "code",
      "metadata": {
        "colab": {
          "base_uri": "https://localhost:8080/"
        },
        "id": "7540KTG9YLcd",
        "outputId": "cd78d4cb-8cf8-4cdd-afdd-1c4ed14ab653"
      },
      "source": [
        "from scipy.linalg import solve\n",
        "A = np.array([[4,5],[3,-2]])\n",
        "print(A)\n",
        "B = np.array([[7,],[11]])\n",
        "print(B)\n",
        "\n",
        "inv_A = np.linalg.inv(A)\n",
        "print(inv_A)\n",
        "X = np.linalg.inv(A).dot(B)\n",
        "print(X)"
      ],
      "execution_count": 12,
      "outputs": [
        {
          "output_type": "stream",
          "name": "stdout",
          "text": [
            "[[ 4  5]\n",
            " [ 3 -2]]\n",
            "[[ 7]\n",
            " [11]]\n",
            "[[ 0.08695652  0.2173913 ]\n",
            " [ 0.13043478 -0.17391304]]\n",
            "[[ 3.]\n",
            " [-1.]]\n"
          ]
        }
      ]
    },
    {
      "cell_type": "code",
      "metadata": {
        "colab": {
          "base_uri": "https://localhost:8080/"
        },
        "id": "ERF9IQ2BbsKz",
        "outputId": "e738f909-77af-47dc-f205-28e80b29e330"
      },
      "source": [
        "inv_A = np.linalg.inv(A)\n",
        "print(inv_A)\n",
        "\n",
        "X = np.dot(inv_A,B)\n",
        "print(X)"
      ],
      "execution_count": 8,
      "outputs": [
        {
          "output_type": "stream",
          "name": "stdout",
          "text": [
            "[[ 0.08695652  0.2173913 ]\n",
            " [ 0.13043478 -0.17391304]]\n",
            "[[ 3.]\n",
            " [-1.]]\n"
          ]
        }
      ]
    },
    {
      "cell_type": "code",
      "metadata": {
        "colab": {
          "base_uri": "https://localhost:8080/"
        },
        "id": "y7Wid1gMcj30",
        "outputId": "42b21777-67b8-4c78-b560-c5555c3cee38"
      },
      "source": [
        "X = np.linalg.solve(A,B)\n",
        "print(X)"
      ],
      "execution_count": 9,
      "outputs": [
        {
          "output_type": "stream",
          "name": "stdout",
          "text": [
            "[[ 3.]\n",
            " [-1.]]\n"
          ]
        }
      ]
    },
    {
      "cell_type": "code",
      "metadata": {
        "colab": {
          "base_uri": "https://localhost:8080/"
        },
        "id": "l3y4k5z3d0WM",
        "outputId": "98207b6a-c0a5-45f2-9248-7ff7fa87fff2"
      },
      "source": [
        "from scipy.linalg import solve\n",
        "\n",
        "X = solve(A,B)\n",
        "print(X)"
      ],
      "execution_count": 11,
      "outputs": [
        {
          "output_type": "stream",
          "name": "stdout",
          "text": [
            "[[ 3.]\n",
            " [-1.]]\n"
          ]
        }
      ]
    }
  ]
}